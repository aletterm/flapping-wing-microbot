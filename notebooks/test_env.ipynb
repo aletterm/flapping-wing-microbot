{
 "cells": [
  {
   "cell_type": "code",
   "execution_count": null,
   "id": "ec3262a6",
   "metadata": {
    "vscode": {
     "languageId": "plaintext"
    }
   },
   "outputs": [],
   "source": [
    "from src.ml_control.env import FlappingWingEnv\n",
    "import matplotlib.pyplot as plt\n",
    "\n",
    "# Créer l'environnement\n",
    "params = {\"I\": 1.0, \"k\": 1.0, \"c\": 0.1}\n",
    "env = FlappingWingEnv(params=params, t_step=0.05)\n",
    "\n",
    "# Reset\n",
    "obs = env.reset()\n",
    "print(\"Initial state:\", obs)\n",
    "\n",
    "states, rewards = [], []\n",
    "\n",
    "# 50 steps avec action nulle\n",
    "for _ in range(50):\n",
    "    obs, reward, done, _ = env.step(lambda t, y: 0.0)\n",
    "    states.append(obs)\n",
    "    rewards.append(reward)\n",
    "\n",
    "# Visualisation\n",
    "states = np.array(states)\n",
    "plt.plot(states[:,0], label=\"Angle\")\n",
    "plt.plot(states[:,1], label=\"Vitesse\")\n",
    "plt.legend()\n",
    "plt.title(\"Évolution libre avec action=0\")\n",
    "plt.show()\n",
    "\n",
    "plt.plot(rewards, label=\"Reward\")\n",
    "plt.title(\"Rewards\")\n",
    "plt.show()\n"
   ]
  }
 ],
 "metadata": {
  "language_info": {
   "name": "python"
  }
 },
 "nbformat": 4,
 "nbformat_minor": 5
}
