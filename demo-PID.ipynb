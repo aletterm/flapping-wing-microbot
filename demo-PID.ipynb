{
 "cells": [
  {
   "cell_type": "markdown",
   "id": "72fe5c7a",
   "metadata": {},
   "source": [
    "# Démo Micro-Robot avec PID\n",
    "\n",
    "Ce notebook montre :\n",
    "- comment définir les paramètres du système (`I`, `k`, `c`),\n",
    "- comment appliquer différents contrôleurs (`zero_control`, `sinus_control`, `PID`),\n",
    "- comment ajuster les gains PID et les paramètres physiques en direct avec des sliders interactifs."
   ]
  },
  {
   "cell_type": "code",
   "execution_count": 1,
   "id": "3d9a9516",
   "metadata": {},
   "outputs": [],
   "source": [
    "from ipywidgets import FloatSlider, interactive, VBox\n",
    "import matplotlib.pyplot as plt\n",
    "import numpy as np\n",
    "from IPython.display import display\n",
    "from src.simulation import run_simulation\n",
    "from src.control import PID"
   ]
  },
  {
   "cell_type": "markdown",
   "id": "bc77c05e",
   "metadata": {},
   "source": [
    "## Démo interactive (PID + paramètres système)"
   ]
  },
  {
   "cell_type": "code",
   "execution_count": 2,
   "id": "f8d7dcdd",
   "metadata": {},
   "outputs": [
    {
     "data": {
      "application/vnd.jupyter.widget-view+json": {
       "model_id": "aece8e2853694d45b95c6ebbb3ff6e41",
       "version_major": 2,
       "version_minor": 0
      },
      "text/plain": [
       "interactive(children=(FloatSlider(value=0.0001, description='Inertie I', max=0.01, min=1e-06, readout_format='…"
      ]
     },
     "metadata": {},
     "output_type": "display_data"
    }
   ],
   "source": [
    "def simulate(I, k, c, Kp, Ki, Kd, target, t_max):\n",
    "    params = {\"I\": I, \"k\": k, \"c\": c}\n",
    "    pid = PID(Kp=Kp, Ki=Ki, Kd=Kd, target=target)\n",
    "\n",
    "    # Simulation\n",
    "    t, y = run_simulation(params, control_func=pid, t_max=t_max)\n",
    "\n",
    "    # Calcul de la commande\n",
    "    u_vals = [pid(ti, yi) for ti, yi in zip(t, y.T)]\n",
    "\n",
    "    fig, ax1 = plt.subplots(figsize=(6, 4))\n",
    "\n",
    "    # Angle simulé\n",
    "    ax1.plot(t, y[0], label=\"Angle θ (rad)\", color=\"tab:blue\")\n",
    "    # Consigne constante\n",
    "    ax1.plot(t, [target]*len(t), \"g--\", label=\"Consigne θ*\")\n",
    "\n",
    "    ax1.set_xlabel(\"Temps (s)\")\n",
    "    ax1.set_ylabel(\"Angle (rad)\", color=\"tab:blue\")\n",
    "    ax1.tick_params(axis=\"y\", labelcolor=\"tab:blue\")\n",
    "\n",
    "    # Commande PID\n",
    "    ax2 = ax1.twinx()\n",
    "    ax2.plot(t, u_vals, label=\"Commande u(t)\", color=\"tab:red\", linestyle=\"--\")\n",
    "    ax2.set_ylabel(\"Commande (u)\", color=\"tab:red\")\n",
    "    ax2.tick_params(axis=\"y\", labelcolor=\"tab:red\")\n",
    "\n",
    "    # Légendes\n",
    "    ax1.legend(loc=\"upper left\")\n",
    "    ax2.legend(loc=\"upper right\")\n",
    "\n",
    "    plt.title(f\"PID: Kp={Kp}, Ki={Ki}, Kd={Kd}, cible={target}\")\n",
    "    fig.tight_layout()\n",
    "    plt.show()\n",
    "\n",
    "\n",
    "# --- Sliders ---\n",
    "ui = VBox([\n",
    "    FloatSlider(value=1e-4, min=1e-6, max=1e-2, step=1e-6, description=\"Inertie I\", readout_format=\".1e\"),\n",
    "    FloatSlider(value=1.0, min=0.1, max=10.0, step=0.1, description=\"Raideur k\"),\n",
    "    FloatSlider(value=0.05, min=0.0, max=1.0, step=0.01, description=\"Amort. c\"),\n",
    "    FloatSlider(value=2.0, min=0.0, max=10.0, step=0.1, description=\"Kp\"),\n",
    "    FloatSlider(value=0.1, min=0.0, max=5.0, step=0.1, description=\"Ki\"),\n",
    "    FloatSlider(value=0.05, min=0.0, max=2.0, step=0.05, description=\"Kd\"),\n",
    "    FloatSlider(value=0.0, min=-2.0, max=2.0, step=0.1, description=\"Cible θ*\"),\n",
    "    FloatSlider(value=5, min=2, max=20, step=1, description=\"Durée (s)\")\n",
    "])\n",
    "\n",
    "out = interactive(\n",
    "    simulate,\n",
    "    I=ui.children[0], k=ui.children[1], c=ui.children[2],\n",
    "    Kp=ui.children[3], Ki=ui.children[4], Kd=ui.children[5],\n",
    "    target=ui.children[6], t_max=ui.children[7]\n",
    ")\n",
    "\n",
    "display(out)\n"
   ]
  },
  {
   "cell_type": "code",
   "execution_count": null,
   "id": "54618de2-8b58-4343-bf44-1a913bf2a9e6",
   "metadata": {},
   "outputs": [],
   "source": []
  }
 ],
 "metadata": {
  "kernelspec": {
   "display_name": "Python 3 (ipykernel)",
   "language": "python",
   "name": "python3"
  },
  "language_info": {
   "codemirror_mode": {
    "name": "ipython",
    "version": 3
   },
   "file_extension": ".py",
   "mimetype": "text/x-python",
   "name": "python",
   "nbconvert_exporter": "python",
   "pygments_lexer": "ipython3",
   "version": "3.12.6"
  }
 },
 "nbformat": 4,
 "nbformat_minor": 5
}
